{
 "metadata": {
  "language_info": {
   "codemirror_mode": {
    "name": "ipython",
    "version": 3
   },
   "file_extension": ".py",
   "mimetype": "text/x-python",
   "name": "python",
   "nbconvert_exporter": "python",
   "pygments_lexer": "ipython3",
   "version": "3.8.3-final"
  },
  "orig_nbformat": 2,
  "kernelspec": {
   "name": "python3",
   "display_name": "Python 3",
   "language": "python"
  }
 },
 "nbformat": 4,
 "nbformat_minor": 2,
 "cells": [
  {
   "cell_type": "code",
   "execution_count": 3,
   "metadata": {},
   "outputs": [
    {
     "output_type": "execute_result",
     "data": {
      "text/plain": [
       "(67, 89, 74, 87, 75)"
      ]
     },
     "metadata": {},
     "execution_count": 3
    }
   ],
   "source": [
    "student_tuple = (67, 89, 74, 87, 75)\n",
    "student_tuple"
   ]
  },
  {
   "cell_type": "code",
   "execution_count": 8,
   "metadata": {},
   "outputs": [
    {
     "output_type": "stream",
     "name": "stdout",
     "text": [
      "國文 67\n英文 89\n數學 74\n歷史 87\n地理 75\n"
     ]
    }
   ],
   "source": [
    "chinese,english,math,history,geographic = student_tuple\n",
    "print('國文',chinese)\n",
    "print('英文',english)\n",
    "print('數學',math)\n",
    "print('歷史',history)\n",
    "print('地理',geographic)"
   ]
  },
  {
   "cell_type": "code",
   "execution_count": 4,
   "metadata": {},
   "outputs": [
    {
     "output_type": "execute_result",
     "data": {
      "text/plain": [
       "[67, 89, 74, 87, 75]"
      ]
     },
     "metadata": {},
     "execution_count": 4
    }
   ],
   "source": [
    "student_list = [67, 89, 74, 87, 75]\n",
    "student_list"
   ]
  },
  {
   "cell_type": "code",
   "execution_count": 9,
   "metadata": {},
   "outputs": [
    {
     "output_type": "stream",
     "name": "stdout",
     "text": [
      "國文 67\n英文 89\n數學 74\n歷史 87\n地理 75\n"
     ]
    }
   ],
   "source": [
    "chinese = student_list[0]\n",
    "english = student_list[1]\n",
    "math = student_list[2]\n",
    "history = student_list[3]\n",
    "geographic = student_list[4]\n",
    "\n",
    "print('國文',chinese)\n",
    "print('英文',english)\n",
    "print('數學',math)\n",
    "print('歷史',history)\n",
    "print('地理',geographic)"
   ]
  },
  {
   "cell_type": "code",
   "execution_count": 5,
   "metadata": {},
   "outputs": [
    {
     "output_type": "execute_result",
     "data": {
      "text/plain": [
       "{'國文': 67, '英文': 89, '數學': 74, '歷史': 87, '地理': 75}"
      ]
     },
     "metadata": {},
     "execution_count": 5
    }
   ],
   "source": [
    "student_dict = {'國文':67,'英文':89,'數學':74,'歷史':87,'地理':75}\n",
    "student_dict"
   ]
  },
  {
   "cell_type": "code",
   "execution_count": 11,
   "metadata": {},
   "outputs": [
    {
     "output_type": "stream",
     "name": "stdout",
     "text": [
      "國文 67\n英文 89\n數學 74\n歷史 87\n地理 75\n"
     ]
    }
   ],
   "source": [
    "hinese = student_dict['國文']\n",
    "english = student_dict['英文']\n",
    "math = student_dict['數學']\n",
    "history = student_dict['歷史']\n",
    "geographic = student_dict['地理']\n",
    "\n",
    "print('國文',chinese)\n",
    "print('英文',english)\n",
    "print('數學',math)\n",
    "print('歷史',history)\n",
    "print('地理',geographic)"
   ]
  },
  {
   "cell_type": "code",
   "execution_count": 12,
   "metadata": {},
   "outputs": [
    {
     "output_type": "stream",
     "name": "stdout",
     "text": [
      "67\n89\n74\n87\n75\n"
     ]
    }
   ],
   "source": [
    "for i in student_list:\n",
    "    print(i)"
   ]
  },
  {
   "cell_type": "code",
   "execution_count": 15,
   "metadata": {},
   "outputs": [
    {
     "output_type": "stream",
     "name": "stdout",
     "text": [
      "國文 67\n英文 89\n數學 74\n歷史 87\n地理 75\n"
     ]
    }
   ],
   "source": [
    "for key,value in student_dict.items():\n",
    "    print(key,value)"
   ]
  },
  {
   "cell_type": "code",
   "execution_count": null,
   "metadata": {},
   "outputs": [],
   "source": [
    "import random\n",
    "\n",
    "students = []  #建立儲存50位學生的空陣列\n",
    "for i in range(50): #使用迴圈建立50位學生\n",
    "    student = {'國文':random.randint(50,100),'英文':random.randint(50,100),'數學':random.randint(50,100),'歷史':random.randint(50,100),'地理':random.randint(50,100)} #建立每位學生的分數\n",
    "    students.append(student)"
   ]
  }
 ]
}