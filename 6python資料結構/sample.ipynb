{
 "metadata": {
  "language_info": {
   "codemirror_mode": {
    "name": "ipython",
    "version": 3
   },
   "file_extension": ".py",
   "mimetype": "text/x-python",
   "name": "python",
   "nbconvert_exporter": "python",
   "pygments_lexer": "ipython3",
   "version": "3.8.3-final"
  },
  "orig_nbformat": 2,
  "kernelspec": {
   "name": "python3",
   "display_name": "Python 3",
   "language": "python"
  }
 },
 "nbformat": 4,
 "nbformat_minor": 2,
 "cells": [
  {
   "cell_type": "code",
   "execution_count": 3,
   "metadata": {},
   "outputs": [
    {
     "output_type": "execute_result",
     "data": {
      "text/plain": [
       "(67, 89, 74, 87, 75)"
      ]
     },
     "metadata": {},
     "execution_count": 3
    }
   ],
   "source": [
    "student_tuple = (67, 89, 74, 87, 75)\n",
    "student_tuple"
   ]
  },
  {
   "cell_type": "code",
   "execution_count": 8,
   "metadata": {},
   "outputs": [
    {
     "output_type": "stream",
     "name": "stdout",
     "text": [
      "國文 67\n英文 89\n數學 74\n歷史 87\n地理 75\n"
     ]
    }
   ],
   "source": [
    "chinese,english,math,history,geographic = student_tuple\n",
    "print('國文',chinese)\n",
    "print('英文',english)\n",
    "print('數學',math)\n",
    "print('歷史',history)\n",
    "print('地理',geographic)"
   ]
  },
  {
   "cell_type": "code",
   "execution_count": 4,
   "metadata": {},
   "outputs": [
    {
     "output_type": "execute_result",
     "data": {
      "text/plain": [
       "[67, 89, 74, 87, 75]"
      ]
     },
     "metadata": {},
     "execution_count": 4
    }
   ],
   "source": [
    "student_list = [67, 89, 74, 87, 75]\n",
    "student_list"
   ]
  },
  {
   "cell_type": "code",
   "execution_count": 9,
   "metadata": {},
   "outputs": [
    {
     "output_type": "stream",
     "name": "stdout",
     "text": [
      "國文 67\n英文 89\n數學 74\n歷史 87\n地理 75\n"
     ]
    }
   ],
   "source": [
    "chinese = student_list[0]\n",
    "english = student_list[1]\n",
    "math = student_list[2]\n",
    "history = student_list[3]\n",
    "geographic = student_list[4]\n",
    "\n",
    "print('國文',chinese)\n",
    "print('英文',english)\n",
    "print('數學',math)\n",
    "print('歷史',history)\n",
    "print('地理',geographic)"
   ]
  },
  {
   "cell_type": "code",
   "execution_count": 5,
   "metadata": {},
   "outputs": [
    {
     "output_type": "execute_result",
     "data": {
      "text/plain": [
       "{'國文': 67, '英文': 89, '數學': 74, '歷史': 87, '地理': 75}"
      ]
     },
     "metadata": {},
     "execution_count": 5
    }
   ],
   "source": [
    "student_dict = {'國文':67,'英文':89,'數學':74,'歷史':87,'地理':75}\n",
    "student_dict"
   ]
  },
  {
   "cell_type": "code",
   "execution_count": 11,
   "metadata": {},
   "outputs": [
    {
     "output_type": "stream",
     "name": "stdout",
     "text": [
      "國文 67\n英文 89\n數學 74\n歷史 87\n地理 75\n"
     ]
    }
   ],
   "source": [
    "hinese = student_dict['國文']\n",
    "english = student_dict['英文']\n",
    "math = student_dict['數學']\n",
    "history = student_dict['歷史']\n",
    "geographic = student_dict['地理']\n",
    "\n",
    "print('國文',chinese)\n",
    "print('英文',english)\n",
    "print('數學',math)\n",
    "print('歷史',history)\n",
    "print('地理',geographic)"
   ]
  },
  {
   "cell_type": "code",
   "execution_count": 12,
   "metadata": {},
   "outputs": [
    {
     "output_type": "stream",
     "name": "stdout",
     "text": [
      "67\n89\n74\n87\n75\n"
     ]
    }
   ],
   "source": [
    "for i in student_list:\n",
    "    print(i)"
   ]
  },
  {
   "cell_type": "code",
   "execution_count": 15,
   "metadata": {},
   "outputs": [
    {
     "output_type": "stream",
     "name": "stdout",
     "text": [
      "國文 67\n英文 89\n數學 74\n歷史 87\n地理 75\n"
     ]
    }
   ],
   "source": [
    "for key,value in student_dict.items():\n",
    "    print(key,value)"
   ]
  },
  {
   "cell_type": "code",
   "execution_count": 17,
   "metadata": {},
   "outputs": [
    {
     "output_type": "stream",
     "name": "stdout",
     "text": [
      "國文:84  英文:86  數學:97  歷史:64  地理:88\n國文:63  英文:61  數學:96  歷史:87  地理:59\n國文:99  英文:91  數學:91  歷史:76  地理:50\n國文:96  英文:84  數學:66  歷史:51  地理:59\n國文:95  英文:69  數學:62  歷史:60  地理:75\n國文:52  英文:92  數學:97  歷史:94  地理:94\n國文:86  英文:91  數學:92  歷史:88  地理:99\n國文:93  英文:86  數學:56  歷史:84  地理:76\n國文:55  英文:76  數學:94  歷史:62  地理:76\n國文:50  英文:57  數學:58  歷史:88  地理:60\n國文:63  英文:85  數學:53  歷史:76  地理:93\n國文:91  英文:75  數學:85  歷史:87  地理:62\n國文:67  英文:71  數學:90  歷史:63  地理:58\n國文:71  英文:98  數學:60  歷史:82  地理:78\n國文:96  英文:93  數學:54  歷史:66  地理:60\n國文:59  英文:82  數學:93  歷史:52  地理:97\n國文:75  英文:89  數學:50  歷史:64  地理:64\n國文:76  英文:90  數學:89  歷史:97  地理:96\n國文:51  英文:78  數學:77  歷史:93  地理:61\n國文:54  英文:59  數學:62  歷史:97  地理:76\n國文:84  英文:95  數學:84  歷史:69  地理:54\n國文:59  英文:78  數學:82  歷史:91  地理:95\n國文:92  英文:71  數學:64  歷史:81  地理:81\n國文:82  英文:76  數學:90  歷史:68  地理:83\n國文:68  英文:62  數學:87  歷史:91  地理:78\n國文:77  英文:87  數學:59  歷史:100  地理:91\n國文:93  英文:90  數學:83  歷史:65  地理:54\n國文:63  英文:54  數學:92  歷史:73  地理:67\n國文:54  英文:68  數學:50  歷史:79  地理:66\n國文:56  英文:59  數學:71  歷史:94  地理:93\n國文:96  英文:54  數學:74  歷史:81  地理:86\n國文:77  英文:77  數學:62  歷史:79  地理:84\n國文:57  英文:50  數學:51  歷史:98  地理:50\n國文:59  英文:77  數學:58  歷史:98  地理:65\n國文:62  英文:86  數學:99  歷史:100  地理:71\n國文:59  英文:62  數學:59  歷史:91  地理:50\n國文:72  英文:89  數學:52  歷史:66  地理:90\n國文:74  英文:82  數學:64  歷史:79  地理:52\n國文:76  英文:99  數學:91  歷史:59  地理:50\n國文:63  英文:95  數學:83  歷史:80  地理:72\n國文:79  英文:70  數學:75  歷史:58  地理:86\n國文:90  英文:72  數學:65  歷史:95  地理:81\n國文:63  英文:89  數學:75  歷史:91  地理:90\n國文:78  英文:100  數學:90  歷史:92  地理:100\n國文:89  英文:96  數學:66  歷史:68  地理:51\n國文:61  英文:67  數學:80  歷史:99  地理:88\n國文:66  英文:84  數學:76  歷史:79  地理:67\n國文:71  英文:78  數學:65  歷史:96  地理:52\n國文:80  英文:71  數學:78  歷史:67  地理:69\n國文:62  英文:61  數學:89  歷史:69  地理:100\n"
     ]
    }
   ],
   "source": [
    "import random\n",
    "\n",
    "students = []  #建立儲存50位學生的空list\n",
    "for i in range(50): #使用迴圈建立50位學生的亂數分數\n",
    "    student = {'國文':random.randint(50,100),'英文':random.randint(50,100),'數學':random.randint(50,100),'歷史':random.randint(50,100),'地理':random.randint(50,100)} #建立每位學生的分數\n",
    "    students.append(student) #將學生加入至list\n",
    "\n",
    "#輸出學生分數\n",
    "for student in students:\n",
    "    print('國文:',student['國文'],sep='', end='  ')\n",
    "    print('英文:',student['英文'],sep='', end='  ')\n",
    "    print('數學:',student['數學'],sep='', end='  ')\n",
    "    print('歷史:',student['歷史'],sep='', end='  ')\n",
    "    print('地理:',student['地理'],sep='')\n",
    "    "
   ]
  },
  {
   "cell_type": "code",
   "execution_count": null,
   "metadata": {},
   "outputs": [],
   "source": []
  }
 ]
}