{
 "metadata": {
  "language_info": {
   "codemirror_mode": {
    "name": "ipython",
    "version": 3
   },
   "file_extension": ".py",
   "mimetype": "text/x-python",
   "name": "python",
   "nbconvert_exporter": "python",
   "pygments_lexer": "ipython3",
   "version": "3.8.7-final"
  },
  "orig_nbformat": 2,
  "kernelspec": {
   "name": "python3",
   "display_name": "Python 3.8.7 64-bit",
   "metadata": {
    "interpreter": {
     "hash": "25a4a571299c7db385896478c53f1f71e218f3290c5c3376c6db365e6f952667"
    }
   }
  }
 },
 "nbformat": 4,
 "nbformat_minor": 2,
 "cells": [
  {
   "cell_type": "code",
   "execution_count": 1,
   "metadata": {},
   "outputs": [],
   "source": [
    "def sayHello(name):\n",
    "    print(f\"Hello!{name}\")\n",
    "    return"
   ]
  },
  {
   "cell_type": "code",
   "execution_count": 2,
   "metadata": {},
   "outputs": [
    {
     "output_type": "stream",
     "name": "stdout",
     "text": [
      "Hello!Robert\n"
     ]
    }
   ],
   "source": [
    "sayHello(name=\"Robert\")"
   ]
  },
  {
   "cell_type": "code",
   "execution_count": 8,
   "metadata": {},
   "outputs": [],
   "source": [
    "def cTransformf(celsius):\n",
    "    fahrenheit = celsius * 9 / 5 + 32\n",
    "    return fahrenheit"
   ]
  },
  {
   "cell_type": "code",
   "execution_count": 9,
   "metadata": {},
   "outputs": [
    {
     "output_type": "stream",
     "name": "stdout",
     "text": [
      "攝氏溫度:27.0等於華氏溫度:80.6\n"
     ]
    }
   ],
   "source": [
    "c = float(input(\"請輸入攝氏溫度:\"))\n",
    "f = cTransformf(celsius=c)\n",
    "print(f\"攝氏溫度:{c}等於華氏溫度:{f}\")"
   ]
  },
  {
   "cell_type": "code",
   "execution_count": 10,
   "metadata": {},
   "outputs": [
    {
     "output_type": "stream",
     "name": "stdout",
     "text": [
      "身高是 176.00公分\n",
      "體重是 84.00公斤\n",
      "您的bmi是27,狀態:輕度肥胖\n",
      "-----------------------\n",
      "身高是 183.00公分\n",
      "體重是 76.00公斤\n",
      "您的bmi是22,狀態:非常標準\n",
      "程式結束\n"
     ]
    }
   ],
   "source": [
    "def bmiCaculator(height, weight):\n",
    "    bmi = weight / (height/100) ** 2\n",
    "    if bmi < 18.5:\n",
    "        state = \"體重過輕\"\n",
    "    elif bmi < 24:\n",
    "        state = \"非常標準\"\n",
    "    elif bmi < 27:\n",
    "        state = \"過重\"\n",
    "    elif bmi < 30:\n",
    "        state = \"輕度肥胖\"\n",
    "    elif bmi < 35:\n",
    "        state = \"中度肥胖\"\n",
    "    else:\n",
    "        state = \"過重\"\n",
    "\n",
    "    return bmi,state\n",
    "\n",
    "while True:\n",
    "    h = float(input('請輸入您的身高(cm)'))\n",
    "    w = float(input('請輸入您的體重(kg)'))\n",
    "    bmi,state = bmiCaculator(height=h,weight=w)\n",
    "    print(\"身高是 %.2f公分\" % (h))\n",
    "    print(\"體重是 %.2f公斤\" % (w))\n",
    "    print(\"您的bmi是{:d},狀態:{:s}\".format(int(bmi),state))\n",
    "    answer = input(\"請問還要繼續運算BMI嗎?[繼續請按'Y',停止請按任意鍵]\")\n",
    "    if answer.upper() != 'Y':       \n",
    "        break\n",
    "    print(\"-----------------------\")\n",
    "print(\"程式結束\")    \n"
   ]
  },
  {
   "cell_type": "code",
   "execution_count": null,
   "metadata": {},
   "outputs": [],
   "source": []
  }
 ]
}