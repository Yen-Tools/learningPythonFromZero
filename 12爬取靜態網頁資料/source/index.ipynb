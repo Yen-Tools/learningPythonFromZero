{
 "cells": [
  {
   "cell_type": "code",
   "execution_count": 3,
   "metadata": {},
   "outputs": [
    {
     "name": "stdout",
     "output_type": "stream",
     "text": [
      "下載完成\n"
     ]
    }
   ],
   "source": [
    "import requests\n",
    "#網站網址\n",
    "urlPath = \"https://trip.eztravel.com.tw/?_gl=1*156x4hs*_gcl_aw*R0NMLjE2MzkzOTYzNjEuQ2p3S0NBaUEtOXVOQmhCVEVpd0FOM0lsTkozMHVwRU9rR2tvelo5QmdWNm9PMXZrcTQtVHJCYmpJLVlPdC1XN0lVTjR2WVdnWDFneGNCb0NXQlVRQXZEX0J3RQ..*_ga*MTg1NzA5NzUzMi4xNjM5Mzk1Mjgw*_ga_XS4XWTQS4B*MTYzOTQ1MjAyMS4zLjEuMTYzOTQ1MzQ3NS42MA..&_ga=2.42810533.1014596521.1639395280-1857097532.1639395280&_gac=1.87327338.1639396361.CjwKCAiA-9uNBhBTEiwAN3IlNJ30upEOkGkozZ9BgV6oO1vkq4-TrBbjI-YOt-W7IUN4vYWgX1gxcBoCWBUQAvD_BwE\"\n",
    "\n",
    "#下載網頁\n",
    "response = requests.get(urlPath)\n",
    "if response.status_code == 200:\n",
    "    print(\"下載完成\")\n",
    "    #取出網頁文字檔\n",
    "    htmlcontent = response.text\n",
    "else:\n",
    "    print(\"下載失敗\")"
   ]
  },
  {
   "cell_type": "code",
   "execution_count": 9,
   "metadata": {},
   "outputs": [
    {
     "name": "stdout",
     "output_type": "stream",
     "text": [
      "section\n",
      "['ArticleHappyLinks_content__1ctN6', 'TripWidget_happy_links__2iJPM']\n",
      "happygo\n"
     ]
    }
   ],
   "source": [
    "from bs4 import BeautifulSoup\n",
    "soup = BeautifulSoup(htmlcontent,'html.parser')\n",
    "\n",
    "#取得根容器\n",
    "rootElement = soup.find('section',attrs={'data-section':'happygo'})\n",
    "print(rootElement.name)\n",
    "print(rootElement['class'])\n",
    "print(rootElement['data-section'])"
   ]
  },
  {
   "cell_type": "code",
   "execution_count": 20,
   "metadata": {},
   "outputs": [
    {
     "name": "stdout",
     "output_type": "stream",
     "text": [
      "火車旅遊\n",
      "高鐵旅遊\n",
      "在地深度遊\n",
      "東台灣\n",
      "南台灣\n",
      "中台灣\n",
      "北台灣\n",
      "離島\n",
      "暢遊寶島\n"
     ]
    }
   ],
   "source": [
    "#取得標題內容\n",
    "#根容器內有8個<h3>\n",
    "#使用find_all('h3')\n",
    "\n",
    "\n",
    "for h3Element in rootElement.find_all('h3'):\n",
    "    #h3內有子元素a\n",
    "    #子元素a有title屬性\n",
    "    #有些h3沒有子元素,所以要用判斷式\n",
    "    if h3Element.find('a'):\n",
    "        print(h3Element.a['title'])\n",
    "    else:\n",
    "        print(h3Element.string)"
   ]
  },
  {
   "cell_type": "code",
   "execution_count": 22,
   "metadata": {},
   "outputs": [
    {
     "name": "stdout",
     "output_type": "stream",
     "text": [
      "環島之星．環島遊\n",
      "https://www.eztravel.com.tw/activity/formosa/express/touristtrain/?p=focus\n",
      "=========================\n",
      "郵輪式列車\n",
      "https://www.eztravel.com.tw/events/cruisestrain/index.html\n",
      "=========================\n",
      "高鐵假期\n",
      "https://www.eztravel.com.tw/activity/thsr/vacation/\n",
      "=========================\n",
      "高鐵加購優惠\n",
      "https://www.eztravel.com.tw/events/thsrc-discount/index.html\n",
      "=========================\n",
      "高鐵ez遊\n",
      "https://trip.eztravel.com.tw/domestic/combine/COB0000000423\n",
      "=========================\n",
      "小城故事\n",
      "https://www.eztravel.com.tw/events/2016_twtown/\n",
      "=========================\n",
      "一日遊\n",
      "https://trip.eztravel.com.tw/domestic/combine/COB0000000410\n",
      "=========================\n",
      "花蓮\n",
      "https://trip.eztravel.com.tw/domestic/keywords?viewList=PLCCITYHUN&depart=TPE&avaliableOnly=true\n",
      "=========================\n",
      "台東\n",
      "https://trip.eztravel.com.tw/domestic/keywords?viewList=PLCCITYTTT&depart=TPE&avaliableOnly=true\n",
      "=========================\n",
      "宜蘭\n",
      " https://trip.eztravel.com.tw/domestic/keywords?viewList=PLCCITYYI0&depart=TPE&avaliableOnly=true\n",
      "=========================\n",
      "高雄\n",
      "https://trip.eztravel.com.tw/domestic/keywords?viewList=PLCCITYKHH&depart=TPE&avaliableOnly=true\n",
      "=========================\n",
      "墾丁\n",
      "https://trip.eztravel.com.tw/domestic/keywords?viewList=PLC0000004118&depart=TPE&avaliableOnly=true\n",
      "=========================\n",
      "嘉義\n",
      "https://trip.eztravel.com.tw/domestic/keywords?viewList=PLCCITYCYI&depart=TPE&avaliableOnly=true\n",
      "=========================\n",
      "台南\n",
      "https://trip.eztravel.com.tw/domestic/keywords?viewList=PLCCITYTNN&depart=TPE&avaliableOnly=true\n",
      "=========================\n",
      "南投\n",
      "https://trip.eztravel.com.tw/domestic/keywords?viewList=PLCCITYNA0&depart=TPE&avaliableOnly=true\n",
      "=========================\n",
      "台中\n",
      "https://trip.eztravel.com.tw/domestic/keywords?viewList=PLCCITYTXG&depart=TPE&avaliableOnly=true\n",
      "=========================\n",
      "彰化\n",
      "https://trip.eztravel.com.tw/domestic/keywords?viewList=PLCCITYZH1&depart=TPE&avaliableOnly=true\n",
      "=========================\n",
      "雲林\n",
      "https://trip.eztravel.com.tw/domestic/keywords?viewList=PLCCITYYU1&depart=TPE&avaliableOnly=true\n",
      "=========================\n",
      "北北基\n",
      "https://trip.eztravel.com.tw/domestic/keywords?viewList=PLCCITYTP2&depart=TPE&avaliableOnly=true\n",
      "=========================\n",
      "桃園\n",
      "https://trip.eztravel.com.tw/domestic/keywords?viewList=PLCCITYTA1&depart=TPE&avaliableOnly=true\n",
      "=========================\n",
      "新竹\n",
      "https://trip.eztravel.com.tw/domestic/keywords?viewList=PLCCITYHSZ&depart=TPE&avaliableOnly=true\n",
      "=========================\n",
      "苗栗\n",
      "https://trip.eztravel.com.tw/domestic/keywords?viewList=PLCCITYMI1&depart=TPE&avaliableOnly=true\n",
      "=========================\n",
      "澎湖\n",
      "https://trip.eztravel.com.tw/domestic/keywords?viewList=PLCCITYMZG&depart=TPE&avaliableOnly=true\n",
      "=========================\n",
      "金門\n",
      " https://trip.eztravel.com.tw/domestic/keywords?viewList=PLCCITYKNH&depart=TPE&avaliableOnly=true\n",
      "=========================\n",
      "馬祖\n",
      "https://trip.eztravel.com.tw/domestic/keywords?viewList=PLCCITYMFK&depart=TPE&avaliableOnly=true\n",
      "=========================\n",
      "蘭嶼\n",
      "https://trip.eztravel.com.tw/domestic/keywords?viewList=PLCCITYKYD&depart=TPE&avaliableOnly=true\n",
      "=========================\n",
      "綠島\n",
      "https://trip.eztravel.com.tw/domestic/keywords?viewList=PLCCITYGNI&depart=TPE&avaliableOnly=true\n",
      "=========================\n",
      "巴士\n",
      "https://trip.eztravel.com.tw/tw-bus-tour/\n",
      "=========================\n",
      "飛行遊記\n",
      "https://trip.eztravel.com.tw/tw-airline-packages/\n",
      "=========================\n",
      "ez租車\n",
      "https://car.eztravel.com.tw/\n",
      "=========================\n"
     ]
    }
   ],
   "source": [
    "#取得內容和連結\n",
    "#根容器內有8個<ul>\n",
    "#ul內有不確定數量的li\n",
    "\n",
    "for ulElement in rootElement.find_all('ul'):\n",
    "    for liElement in ulElement.find_all('li'):\n",
    "        #li內有a元素\n",
    "        print(liElement.a.string)\n",
    "        print(liElement.a['href'])\n",
    "        print(\"=========================\")"
   ]
  }
 ],
 "metadata": {
  "interpreter": {
   "hash": "6f18a430941be77a0c5d1c6fc6b74d80a33f6209d3b93946b03b2a64d0609437"
  },
  "kernelspec": {
   "display_name": "Python 3.8.7 64-bit ('venv01': venv)",
   "language": "python",
   "name": "python3"
  },
  "language_info": {
   "codemirror_mode": {
    "name": "ipython",
    "version": 3
   },
   "file_extension": ".py",
   "mimetype": "text/x-python",
   "name": "python",
   "nbconvert_exporter": "python",
   "pygments_lexer": "ipython3",
   "version": "3.8.7"
  },
  "orig_nbformat": 4
 },
 "nbformat": 4,
 "nbformat_minor": 2
}
