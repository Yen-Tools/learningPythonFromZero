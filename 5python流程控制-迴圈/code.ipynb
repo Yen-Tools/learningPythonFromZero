{
 "metadata": {
  "language_info": {
   "codemirror_mode": {
    "name": "ipython",
    "version": 3
   },
   "file_extension": ".py",
   "mimetype": "text/x-python",
   "name": "python",
   "nbconvert_exporter": "python",
   "pygments_lexer": "ipython3",
   "version": "3.8.3-final"
  },
  "orig_nbformat": 2,
  "kernelspec": {
   "name": "python3",
   "display_name": "Python 3",
   "language": "python"
  }
 },
 "nbformat": 4,
 "nbformat_minor": 2,
 "cells": [
  {
   "cell_type": "code",
   "execution_count": 4,
   "metadata": {},
   "outputs": [
    {
     "output_type": "stream",
     "name": "stdout",
     "text": [
      "0\n1\n2\n3\n4\n"
     ]
    }
   ],
   "source": [
    "#執行5次,i的值依序為0,1,2,3,4\n",
    "for i in range(5):\n",
    "    print(i)\n"
   ]
  },
  {
   "cell_type": "code",
   "execution_count": 5,
   "metadata": {},
   "outputs": [
    {
     "output_type": "stream",
     "name": "stdout",
     "text": [
      "1\n2\n3\n4\n"
     ]
    }
   ],
   "source": [
    "for j in range(1,5):\n",
    "    print(j)\n"
   ]
  },
  {
   "cell_type": "code",
   "execution_count": 6,
   "metadata": {},
   "outputs": [
    {
     "output_type": "stream",
     "name": "stdout",
     "text": [
      "1\n3\n5\n7\n9\n"
     ]
    }
   ],
   "source": [
    "for k in range(1,10,2):\n",
    "    print(k)"
   ]
  },
  {
   "cell_type": "code",
   "execution_count": 10,
   "metadata": {},
   "outputs": [
    {
     "output_type": "stream",
     "name": "stdout",
     "text": [
      "0\n1\n2\n3\n4\n"
     ]
    }
   ],
   "source": [
    "i = 0\n",
    "while(i<5):\n",
    "    print(i)\n",
    "    i += 1"
   ]
  },
  {
   "cell_type": "code",
   "execution_count": 2,
   "metadata": {},
   "outputs": [
    {
     "output_type": "stream",
     "name": "stdout",
     "text": [
      "5\n4\n3\n2\n1\n"
     ]
    }
   ],
   "source": [
    "s = 5\n",
    "while(s > 0):\n",
    "    print(s)\n",
    "    s -= 1\n"
   ]
  },
  {
   "cell_type": "code",
   "execution_count": 1,
   "metadata": {},
   "outputs": [],
   "source": [
    "s = 5\n",
    "while(s < 0):\n",
    "    print(s)\n",
    "    s -= 1"
   ]
  },
  {
   "cell_type": "code",
   "execution_count": 6,
   "metadata": {},
   "outputs": [
    {
     "output_type": "stream",
     "name": "stdout",
     "text": [
      "1  *  1 =  1  1  *  2 =  2  1  *  3 =  3  1  *  4 =  4  1  *  5 =  5  1  *  6 =  6  1  *  7 =  7  1  *  8 =  8  1  *  9 =  9  \n2  *  1 =  2  2  *  2 =  4  2  *  3 =  6  2  *  4 =  8  2  *  5 = 10  2  *  6 = 12  2  *  7 = 14  2  *  8 = 16  2  *  9 = 18  \n3  *  1 =  3  3  *  2 =  6  3  *  3 =  9  3  *  4 = 12  3  *  5 = 15  3  *  6 = 18  3  *  7 = 21  3  *  8 = 24  3  *  9 = 27  \n4  *  1 =  4  4  *  2 =  8  4  *  3 = 12  4  *  4 = 16  4  *  5 = 20  4  *  6 = 24  4  *  7 = 28  4  *  8 = 32  4  *  9 = 36  \n5  *  1 =  5  5  *  2 = 10  5  *  3 = 15  5  *  4 = 20  5  *  5 = 25  5  *  6 = 30  5  *  7 = 35  5  *  8 = 40  5  *  9 = 45  \n6  *  1 =  6  6  *  2 = 12  6  *  3 = 18  6  *  4 = 24  6  *  5 = 30  6  *  6 = 36  6  *  7 = 42  6  *  8 = 48  6  *  9 = 54  \n7  *  1 =  7  7  *  2 = 14  7  *  3 = 21  7  *  4 = 28  7  *  5 = 35  7  *  6 = 42  7  *  7 = 49  7  *  8 = 56  7  *  9 = 63  \n8  *  1 =  8  8  *  2 = 16  8  *  3 = 24  8  *  4 = 32  8  *  5 = 40  8  *  6 = 48  8  *  7 = 56  8  *  8 = 64  8  *  9 = 72  \n9  *  1 =  9  9  *  2 = 18  9  *  3 = 27  9  *  4 = 36  9  *  5 = 45  9  *  6 = 54  9  *  7 = 63  9  *  8 = 72  9  *  9 = 81  \n"
     ]
    }
   ],
   "source": [
    "for i in range(1,10):\n",
    "    for j in range(1, 10):\n",
    "        print('%-2d * %2d = %2d' % (i, j, i*j), end='  ')\n",
    "    print()"
   ]
  },
  {
   "cell_type": "code",
   "execution_count": 8,
   "metadata": {},
   "outputs": [
    {
     "output_type": "stream",
     "name": "stdout",
     "text": [
      "Hello! robert\n",
      "Hello! jenny\n",
      "Hello! alice\n"
     ]
    }
   ],
   "source": [
    "while True:\n",
    "    name = input('請輸入姓名:[輸入0,停止輸入]]')\n",
    "    if name == '0':\n",
    "        break\n",
    "    print(\"Hello! %s\" % name)"
   ]
  },
  {
   "cell_type": "code",
   "execution_count": 5,
   "metadata": {},
   "outputs": [
    {
     "output_type": "stream",
     "name": "stdout",
     "text": [
      "身高是 160.00公分\n",
      "體重是 56.00公斤\n",
      "您的bmi是21,狀態:非常標準\n",
      "身高是 172.00公分\n",
      "體重是 58.00公斤\n",
      "您的bmi是19,狀態:非常標準\n",
      "-----------------------\n",
      "程式結束\n"
     ]
    }
   ],
   "source": [
    "while True:\n",
    "    height = float(input('請輸入您的身高(cm)'))\n",
    "    weight = float(input('請輸入您的體重(kg)'))\n",
    "    bmi = weight / (height/100) ** 2\n",
    "    print(\"身高是 %.2f公分\" % (height))\n",
    "    print(\"體重是 %.2f公斤\" % (weight))\n",
    "\n",
    "\n",
    "    if bmi < 18.5:\n",
    "        state = \"體重過輕\"\n",
    "    elif bmi < 24:\n",
    "        state = \"非常標準\"\n",
    "    elif bmi < 27:\n",
    "        state = \"過重\"\n",
    "    elif bmi < 30:\n",
    "        state = \"輕度肥胖\"\n",
    "    elif bmi < 35:\n",
    "        state = \"中度肥胖\"\n",
    "    else:\n",
    "        state = \"過重\"\n",
    "\n",
    "    print(\"您的bmi是{:d},狀態:{:s}\".format(int(bmi),state))\n",
    "    answer = input(\"請問還要繼續運算BMI嗎?[繼續請按'Y',停止請按任意鍵]\")\n",
    "    if answer.upper() != 'Y':       \n",
    "        break\n",
    "     print(\"-----------------------\")\n",
    "print(\"程式結束\")    \n"
   ]
  },
  {
   "cell_type": "code",
   "execution_count": null,
   "metadata": {},
   "outputs": [],
   "source": []
  }
 ]
}